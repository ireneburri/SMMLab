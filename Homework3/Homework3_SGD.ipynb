{
 "cells": [
  {
   "cell_type": "markdown",
   "metadata": {},
   "source": [
    "<h1>Stochastic gradient discent</h1>"
   ]
  },
  {
   "cell_type": "code",
   "execution_count": 158,
   "metadata": {},
   "outputs": [],
   "source": [
    "import numpy as np\n",
    "import matplotlib.pyplot as plt\n",
    "\n",
    "# Utils\n",
    "def sigmoid(z):\n",
    "    return (1 / (1 + np.exp(-z)))\n",
    "\n",
    "def f(w, xhat):\n",
    "    return sigmoid(xhat.T @ w)\n",
    "\n",
    "def grad_f(w, xhat):\n",
    "    return (sigmoid(xhat.T @ w) * (1 - sigmoid(xhat.T @ w)) * xhat.T)\n",
    "\n",
    "def MSE(f_w_x, y):\n",
    "    return np.linalg.norm((f_w_x-y))**2\n",
    "\n",
    "def grad_MSE(grad_f_w_x, f_w_x, y):\n",
    "    return grad_f_w_x.T * (f_w_x - y)\n",
    "\n",
    "def ell(w, X, Y):\n",
    "    d, N = X.shape\n",
    "\n",
    "    mse_sum = 0\n",
    "    for i in range(0, N):\n",
    "        mse_sum+=MSE(f(w, X[:, i]), Y[i])\n",
    "\n",
    "    return mse_sum / N\n",
    "\n",
    "def grad_ell(w, X, Y):\n",
    "    d, N = X.shape\n",
    "\n",
    "    grad_mse_sum = 0\n",
    "    for i in range(0, N):\n",
    "        grad_mse_sum += grad_MSE(np.array(grad_f(w, X[:, i])), f(w, X[:, i]), Y[i])\n",
    "\n",
    "    return grad_mse_sum / N\n"
   ]
  },
  {
   "cell_type": "code",
   "execution_count": 159,
   "metadata": {},
   "outputs": [],
   "source": [
    "def x_split(X, Y, N_train):\n",
    "    d, N = X.shape\n",
    "\n",
    "    idx = np.arange(N)\n",
    "    np.random.shuffle(idx)\n",
    "\n",
    "    train_idx = idx[:N_train]\n",
    "    test_idx = idx[N_train:]\n",
    "\n",
    "    Xtrain = X[:, train_idx]\n",
    "    Ytrain = Y[train_idx]\n",
    "\n",
    "    Xtest = X[:, test_idx]\n",
    "    Ytest = Y[test_idx]\n",
    "\n",
    "    return Xtrain, Xtest, Ytrain, Ytest\n",
    "\n",
    "def get_digits(X, Y, chosen_numbers):\n",
    "    I = [idx for idx, elem in enumerate(Y) if elem in chosen_numbers]\n",
    "    X_def = X[:, I]\n",
    "    Y_def = Y[I]\n",
    "    \n",
    "    return X_def, Y_def"
   ]
  },
  {
   "cell_type": "code",
   "execution_count": 160,
   "metadata": {},
   "outputs": [],
   "source": [
    "def SGD(l, grad_l, w0, D, batch_size, n_epochs):\n",
    "    alpha = 1e-3\n",
    "\n",
    "    X, Y = D\n",
    "    X_backup = X\n",
    "    Y_backup = Y\n",
    "    d, N = X.shape\n",
    "\n",
    "    Xhat = np.concatenate((np.ones((1,N)), X), axis=0)\n",
    "\n",
    "    n_batch_per_epoch = N // batch_size\n",
    "    w_vals = [w0]\n",
    "    f_vals = [l(w0, Xhat, Y)]\n",
    "    grad_f_vals = [grad_l(w0, Xhat, Y)]\n",
    "    err_vals = [np.linalg.norm(grad_l(w0, Xhat, Y))]\n",
    "\n",
    "    for epoch in range(n_epochs):\n",
    "        idx = np.arange(N)\n",
    "        np.random.shuffle(idx)\n",
    "\n",
    "        for k in range(n_batch_per_epoch):\n",
    "            batch_indices = idx[k * batch_size : (k + 1) * batch_size]\n",
    "\n",
    "            Mx = Xhat[:, batch_indices]\n",
    "            My = Y[batch_indices]\n",
    "            M = (Mx, My)\n",
    "\n",
    "\n",
    "            w = w0 - alpha * grad_l(w0, Mx, My)\n",
    "            w_vals.append(w)\n",
    "\n",
    "            w0 = w\n",
    "\n",
    "        X = X_backup\n",
    "        Y = Y_backup\n",
    "        f_vals.append(l(w, Xhat, Y))\n",
    "        grad_f_vals.append(grad_l(w, Xhat, Y))\n",
    "        err_vals.append(np.linalg.norm(grad_l(w, Xhat, Y)))\n",
    "    \n",
    "    return w, f_vals, grad_f_vals, err_vals\n"
   ]
  },
  {
   "cell_type": "code",
   "execution_count": 161,
   "metadata": {},
   "outputs": [],
   "source": [
    "import pandas as pd"
   ]
  },
  {
   "cell_type": "code",
   "execution_count": 162,
   "metadata": {},
   "outputs": [],
   "source": [
    "data = pd.read_csv(\"./data.csv\")\n",
    "data = np.array(data)"
   ]
  },
  {
   "cell_type": "code",
   "execution_count": 163,
   "metadata": {},
   "outputs": [],
   "source": [
    "X = data[:, 1:].T\n",
    "Y = data[:, 0]\n",
    "\n",
    "chosen_digits = [1, 2]"
   ]
  },
  {
   "cell_type": "code",
   "execution_count": 164,
   "metadata": {},
   "outputs": [],
   "source": [
    "X_set, Y_set = get_digits(X, Y, chosen_digits)"
   ]
  },
  {
   "cell_type": "code",
   "execution_count": 165,
   "metadata": {},
   "outputs": [],
   "source": [
    "d, N = X_set.shape\n",
    "N_train = int(N/3*2)\n",
    "Y_set[Y_set == chosen_digits[0]] = 0\n",
    "Y_set[Y_set == chosen_digits[1]] = 1\n",
    "\n",
    "X_train, X_test, Y_train, Y_test = x_split(X_set, Y_set, N_train)\n",
    "\n",
    "D = (X_train, Y_train)"
   ]
  },
  {
   "cell_type": "code",
   "execution_count": 166,
   "metadata": {},
   "outputs": [
    {
     "name": "stderr",
     "output_type": "stream",
     "text": [
      "<ipython-input-158-ff5f3fb470f4>:6: RuntimeWarning: overflow encountered in exp\n",
      "  return (1 / (1 + np.exp(-z)))\n"
     ]
    }
   ],
   "source": [
    "d, N = X_train.shape\n",
    "w0 = np.random.normal(0, 0.1, d+1)\n",
    "batch_size = 15\n",
    "n_epochs = 50\n",
    "w, f_vals, grad_vals, err_vals = SGD(ell, grad_ell, w0, D, batch_size, n_epochs)"
   ]
  },
  {
   "cell_type": "code",
   "execution_count": 167,
   "metadata": {},
   "outputs": [
    {
     "data": {
      "image/png": "[encoded data removed]",
      "text/plain": [
       "<Figure size 432x288 with 1 Axes>"
      ]
     },
     "metadata": {
      "needs_background": "light"
     },
     "output_type": "display_data"
    }
   ],
   "source": [
    "x_plot = np.arange(n_epochs+1)\n",
    "plt.plot(x_plot, err_vals)\n",
    "plt.title(\"Errors changing in SGD (X_train = 66%)\")\n",
    "plt.show()"
   ]
  },
  {
   "cell_type": "code",
   "execution_count": 168,
   "metadata": {},
   "outputs": [],
   "source": [
    "def acc(app, Y, chosen_indeces):\n",
    "    tot = 0\n",
    "    for i in range(len(Y)):\n",
    "        if (int(app[i]) == Y[i]):\n",
    "            tot+=1\n",
    "    return tot, tot/len(Y)\n",
    "\n",
    "def predict(w, X, threshold = 0.5):\n",
    "    d, N = X.shape\n",
    "    app = np.zeros(N)\n",
    "    for i in range(N):\n",
    "        result = f(w, X[:, i])\n",
    "        if (result >= threshold):\n",
    "            app[i] = 1\n",
    "        else:\n",
    "            app[i] = 0\n",
    "    return app"
   ]
  },
  {
   "cell_type": "code",
   "execution_count": 169,
   "metadata": {},
   "outputs": [
    {
     "name": "stdout",
     "output_type": "stream",
     "text": [
      "Matches on Train Set: 5814\n",
      "Total entries on Train Set: 5907\n",
      "Accuracy on Train Set: 98.43\n",
      "Matches on Test Set: 2918\n",
      "Total entries on Test Set: 2954\n",
      "Accuracy on Test Set: 98.78\n"
     ]
    }
   ],
   "source": [
    "Xt = X_train.copy()\n",
    "Yt = Y_train.copy()\n",
    "\n",
    "d, N = Xt.shape\n",
    "Xthat = np.concatenate((np.ones((1,N)), Xt), axis=0)\n",
    "app = predict(w, Xthat)\n",
    "tot, avg = acc(app, Yt, chosen_digits)\n",
    "print(\"Matches on Train Set:\", int(tot))\n",
    "print(\"Total entries on Train Set:\", int(Yt.shape[0]))\n",
    "print(\"Accuracy on Train Set:\", round(avg*100, 2))\n",
    "\n",
    "Xt = X_test.copy()\n",
    "Yt = Y_test.copy()\n",
    "\n",
    "d, N = Xt.shape\n",
    "Xthat = np.concatenate((np.ones((1,N)), Xt), axis=0)\n",
    "app = predict(w, Xthat)\n",
    "tot, avg = acc(app, Yt, chosen_digits)\n",
    "print(\"Matches on Test Set:\", int(tot))\n",
    "print(\"Total entries on Test Set:\", int(Yt.shape[0]))\n",
    "print(\"Accuracy on Test Set:\", round(avg*100, 2))"
   ]
  },
  {
   "cell_type": "code",
   "execution_count": 170,
   "metadata": {},
   "outputs": [],
   "source": [
    "def GD_2(l, grad_l, w0, D, tolf = 1e-9, tolx= 1e-9, kmax = 50, alpha = 1e-1):\n",
    "    X, Y = D\n",
    "    d, N = X.shape\n",
    "\n",
    "    Xhat = np.concatenate((np.ones((1,N)), X), axis=0)\n",
    "    \n",
    "    w_vals = [w0]\n",
    "    f_vals = [l(w0, Xhat, Y)]\n",
    "    grad_f_vals = [grad_l(w0, Xhat, Y)]\n",
    "    err_vals = [np.linalg.norm(grad_l(w0, Xhat, Y))]\n",
    "\n",
    "    iterations = 0\n",
    "\n",
    "    while iterations < kmax:\n",
    "        w = w_vals[-1] - alpha * grad_l(w_vals[-1], Xhat, Y)\n",
    "\n",
    "        w_vals.append(w)\n",
    "        f_vals.append(l(w, Xhat, Y))\n",
    "        grad_f_vals.append(grad_l(w, Xhat, Y))\n",
    "        err_vals.append(np.linalg.norm(grad_l(w, Xhat, Y)))\n",
    "\n",
    "        iterations+=1\n",
    "\n",
    "        if err_vals[-1] < tolf * err_vals[0]:\n",
    "            break\n",
    "\n",
    "        if np.linalg.norm(w_vals[-1] - w_vals[-2]) < tolx * np.linalg.norm(w_vals[0]):\n",
    "            break\n",
    "\n",
    "    return (w, f_vals, grad_f_vals, err_vals, iterations)\n",
    "    "
   ]
  },
  {
   "cell_type": "code",
   "execution_count": 171,
   "metadata": {},
   "outputs": [
    {
     "name": "stderr",
     "output_type": "stream",
     "text": [
      "<ipython-input-158-ff5f3fb470f4>:6: RuntimeWarning: overflow encountered in exp\n",
      "  return (1 / (1 + np.exp(-z)))\n"
     ]
    }
   ],
   "source": [
    "w_gd, f_vals_gd, grad_vals_gd, err_vals_gd, iterations_gd = GD_2(ell, grad_ell, w0, D)"
   ]
  },
  {
   "cell_type": "code",
   "execution_count": 172,
   "metadata": {},
   "outputs": [
    {
     "data": {
      "image/png": "[encoded data removed]",
      "text/plain": [
       "<Figure size 432x288 with 1 Axes>"
      ]
     },
     "metadata": {
      "needs_background": "light"
     },
     "output_type": "display_data"
    }
   ],
   "source": [
    "x_plot = np.arange(len(err_vals_gd))\n",
    "plt.plot(x_plot, err_vals_gd)\n",
    "plt.title(\"Errors changing in GD (X_train = 66%)\")\n",
    "plt.show()"
   ]
  },
  {
   "cell_type": "code",
   "execution_count": 173,
   "metadata": {},
   "outputs": [
    {
     "name": "stdout",
     "output_type": "stream",
     "text": [
      "Matches on Train Set: 5703\n",
      "Total entries on Train Set: 5907\n",
      "Accuracy on Train Set: 96.55\n",
      "Matches on Test Set: 2857\n",
      "Total entries on Test Set: 2954\n",
      "Accuracy on Test Set: 96.72\n"
     ]
    }
   ],
   "source": [
    "Xt = X_train.copy()\n",
    "Yt = Y_train.copy()\n",
    "\n",
    "d, N = Xt.shape\n",
    "Xthat = np.concatenate((np.ones((1,N)), Xt), axis=0)\n",
    "app = predict(w_gd, Xthat)\n",
    "tot, avg = acc(app, Yt, chosen_digits)\n",
    "print(\"Matches on Train Set:\", int(tot))\n",
    "print(\"Total entries on Train Set:\", int(Yt.shape[0]))\n",
    "print(\"Accuracy on Train Set:\", round(avg*100, 2))\n",
    "\n",
    "Xt = X_test.copy()\n",
    "Yt = Y_test.copy()\n",
    "\n",
    "d, N = Xt.shape\n",
    "Xthat = np.concatenate((np.ones((1,N)), Xt), axis=0)\n",
    "app = predict(w_gd, Xthat)\n",
    "tot, avg = acc(app, Yt, chosen_digits)\n",
    "print(\"Matches on Test Set:\", int(tot))\n",
    "print(\"Total entries on Test Set:\", int(Yt.shape[0]))\n",
    "print(\"Accuracy on Test Set:\", round(avg*100, 2))"
   ]
  },
  {
   "cell_type": "code",
   "execution_count": 174,
   "metadata": {},
   "outputs": [],
   "source": [
    "# Change digits\n",
    "X = data[:, 1:].T\n",
    "Y = data[:, 0]\n",
    "\n",
    "chosen_digits = [1, 2]"
   ]
  },
  {
   "cell_type": "code",
   "execution_count": 175,
   "metadata": {},
   "outputs": [],
   "source": [
    "X_set, Y_set = get_digits(X, Y, chosen_digits)"
   ]
  },
  {
   "cell_type": "code",
   "execution_count": 176,
   "metadata": {},
   "outputs": [],
   "source": [
    "# Change the dimension of train set\n",
    "d, N = X_set.shape\n",
    "N_train = int(N/4*3)\n",
    "Y_set[Y_set == chosen_digits[0]] = 0\n",
    "Y_set[Y_set == chosen_digits[1]] = 1\n",
    "\n",
    "X_train, X_test, Y_train, Y_test = x_split(X_set, Y_set, N_train)\n",
    "\n",
    "D = (X_train, Y_train)"
   ]
  },
  {
   "cell_type": "code",
   "execution_count": 177,
   "metadata": {},
   "outputs": [
    {
     "name": "stderr",
     "output_type": "stream",
     "text": [
      "<ipython-input-158-ff5f3fb470f4>:6: RuntimeWarning: overflow encountered in exp\n",
      "  return (1 / (1 + np.exp(-z)))\n"
     ]
    }
   ],
   "source": [
    "d, N = X_train.shape\n",
    "w0 = np.random.normal(0, 0.1, d+1)\n",
    "batch_size = 15\n",
    "n_epochs = 50\n",
    "w, f_vals, grad_vals, err_vals = SGD(ell, grad_ell, w0, D, batch_size, n_epochs)"
   ]
  },
  {
   "cell_type": "code",
   "execution_count": 178,
   "metadata": {},
   "outputs": [
    {
     "data": {
      "image/png": "[encoded data removed]",
      "text/plain": [
       "<Figure size 432x288 with 1 Axes>"
      ]
     },
     "metadata": {
      "needs_background": "light"
     },
     "output_type": "display_data"
    }
   ],
   "source": [
    "x_plot = np.arange(n_epochs+1)\n",
    "plt.plot(x_plot, err_vals)\n",
    "plt.title(\"Errors changing in SGD (X_train = 75%)\")\n",
    "plt.show()"
   ]
  },
  {
   "cell_type": "code",
   "execution_count": 179,
   "metadata": {},
   "outputs": [
    {
     "name": "stdout",
     "output_type": "stream",
     "text": [
      "Matches on Train Set: 6579\n",
      "Total entries on Train Set: 6645\n",
      "Accuracy on Train Set: 99.01\n",
      "Matches on Test Set: 2177\n",
      "Total entries on Test Set: 2216\n",
      "Accuracy on Test Set: 98.24\n"
     ]
    },
    {
     "name": "stderr",
     "output_type": "stream",
     "text": [
      "<ipython-input-158-ff5f3fb470f4>:6: RuntimeWarning: overflow encountered in exp\n",
      "  return (1 / (1 + np.exp(-z)))\n"
     ]
    }
   ],
   "source": [
    "Xt = X_train.copy()\n",
    "Yt = Y_train.copy()\n",
    "\n",
    "d, N = Xt.shape\n",
    "Xthat = np.concatenate((np.ones((1,N)), Xt), axis=0)\n",
    "app = predict(w, Xthat)\n",
    "tot, avg = acc(app, Yt, chosen_digits)\n",
    "print(\"Matches on Train Set:\", int(tot))\n",
    "print(\"Total entries on Train Set:\", int(Yt.shape[0]))\n",
    "print(\"Accuracy on Train Set:\", round(avg*100, 2))\n",
    "\n",
    "Xt = X_test.copy()\n",
    "Yt = Y_test.copy()\n",
    "\n",
    "d, N = Xt.shape\n",
    "Xthat = np.concatenate((np.ones((1,N)), Xt), axis=0)\n",
    "app = predict(w, Xthat)\n",
    "tot, avg = acc(app, Yt, chosen_digits)\n",
    "print(\"Matches on Test Set:\", int(tot))\n",
    "print(\"Total entries on Test Set:\", int(Yt.shape[0]))\n",
    "print(\"Accuracy on Test Set:\", round(avg*100, 2))"
   ]
  },
  {
   "cell_type": "code",
   "execution_count": 180,
   "metadata": {},
   "outputs": [],
   "source": [
    "w_gd, f_vals_gd, grad_vals_gd, err_vals_gd, iterations_gd = GD_2(ell, grad_ell, w0, D)"
   ]
  },
  {
   "cell_type": "code",
   "execution_count": 181,
   "metadata": {},
   "outputs": [
    {
     "data": {
      "image/png": "[encoded data removed]",
      "text/plain": [
       "<Figure size 432x288 with 1 Axes>"
      ]
     },
     "metadata": {
      "needs_background": "light"
     },
     "output_type": "display_data"
    }
   ],
   "source": [
    "x_plot = np.arange(len(err_vals_gd))\n",
    "plt.plot(x_plot, err_vals_gd)\n",
    "plt.title(\"Errors changing in GD (X_train = 75%)\")\n",
    "plt.show()"
   ]
  },
  {
   "cell_type": "code",
   "execution_count": 182,
   "metadata": {},
   "outputs": [
    {
     "name": "stdout",
     "output_type": "stream",
     "text": [
      "Matches on Train Set: 6550\n",
      "Total entries on Train Set: 6645\n",
      "Accuracy on Train Set: 98.57\n",
      "Matches on Test Set: 2161\n",
      "Total entries on Test Set: 2216\n",
      "Accuracy on Test Set: 97.52\n"
     ]
    }
   ],
   "source": [
    "Xt = X_train.copy()\n",
    "Yt = Y_train.copy()\n",
    "\n",
    "d, N = Xt.shape\n",
    "Xthat = np.concatenate((np.ones((1,N)), Xt), axis=0)\n",
    "app = predict(w_gd, Xthat)\n",
    "tot, avg = acc(app, Yt, chosen_digits)\n",
    "print(\"Matches on Train Set:\", int(tot))\n",
    "print(\"Total entries on Train Set:\", int(Yt.shape[0]))\n",
    "print(\"Accuracy on Train Set:\", round(avg*100, 2))\n",
    "\n",
    "Xt = X_test.copy()\n",
    "Yt = Y_test.copy()\n",
    "\n",
    "d, N = Xt.shape\n",
    "Xthat = np.concatenate((np.ones((1,N)), Xt), axis=0)\n",
    "app = predict(w_gd, Xthat)\n",
    "tot, avg = acc(app, Yt, chosen_digits)\n",
    "print(\"Matches on Test Set:\", int(tot))\n",
    "print(\"Total entries on Test Set:\", int(Yt.shape[0]))\n",
    "print(\"Accuracy on Test Set:\", round(avg*100, 2))"
   ]
  },
  {
   "cell_type": "code",
   "execution_count": null,
   "metadata": {},
   "outputs": [],
   "source": []
  }
 ],
 "metadata": {
  "kernelspec": {
   "display_name": "Python 3",
   "language": "python",
   "name": "python3"
  },
  "language_info": {
   "codemirror_mode": {
    "name": "ipython",
    "version": 3
   },
   "file_extension": ".py",
   "mimetype": "text/x-python",
   "name": "python",
   "nbconvert_exporter": "python",
   "pygments_lexer": "ipython3",
   "version": "3.9.0"
  }
 },
 "nbformat": 4,
 "nbformat_minor": 2
}
